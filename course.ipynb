{
 "cells": [
  {
   "cell_type": "markdown",
   "metadata": {},
   "source": [
    "# **Self-Driving Car Game with ROS2 and SuperTuxKart**\n",
    "\n",
    "Welcome to our cool project! We're going to make a car drive by itself in a game called SuperTuxKart using a robot software called ROS2.\n",
    "\n",
    "## **What We'll Do**\n",
    "1. Learn a little about ROS2\n",
    "2. Set up our computer\n",
    "3. Start SuperTuxKart with ROS2\n",
    "4. Make the car see the road\n",
    "5. Make the car drive itself\n",
    "6. Watch the car race on its own!"
   ]
  },
  {
   "cell_type": "markdown",
   "metadata": {},
   "source": [
    "## **1. Learning about ROS2**\n",
    "\n",
    "ROS2 is a special software that helps robots work. Scientists and engineers use it to make robots do things like see, hear, move, and understand the world around them."
   ]
  },
  {
   "cell_type": "markdown",
   "metadata": {},
   "source": [
    "## **2. Setting Up Our Computer**\n",
    "\n",
    "We need to install some software first:\n",
    "\n",
    "1. **Install ROS2**: Follow the instructions [here](https://docs.ros.org/en/humble/Installation.html).\n",
    "2. **Install SuperTuxKart**: Download and install it from [here](https://sourceforge.net/projects/maskor/files/stk/ros-humble-supertuxkart.deb).\n",
    "\n",
    "After installing, open a terminal and type this to start the game with ROS2:\n",
    "\n",
    "```bash\n",
    "ros2 run supertuxkart supertuxkart\n",
    "```"
   ]
  },
  {
   "cell_type": "markdown",
   "metadata": {},
   "source": [
    "## **3. Starting SuperTuxKart with ROS2**\n",
    "\n",
    "Let's check if everything is working. Open a terminal and type:\n",
    "\n",
    "```bash\n",
    "ros2 node list\n",
    "```\n",
    "\n",
    "You should see something like `/stk_node`. To learn more about it, type:\n",
    "\n",
    "```bash\n",
    "ros2 node info /stk_node\n",
    "```\n",
    "\n",
    "This will show you what the game is sharing with ROS2."
   ]
  },
  {
   "cell_type": "markdown",
   "metadata": {},
   "source": [
    "## **4. Making the Car See the Road**\n",
    "\n",
    "We'll use something called an HSV filter to help the car see the road in the game. Let's see how it works.\n",
    "\n",
    "### **Code Explanation**\n",
    "\n",
    "This code gets the game image and helps the car see the road."
   ]
  },
  {
   "cell_type": "code",
   "execution_count": null,
   "metadata": {},
   "outputs": [],
   "source": [
    "import rclpy\n",
    "from sensor_msgs.msg import Image\n",
    "import cv2\n",
    "from cv_bridge import CvBridge\n",
    "import numpy as np\n",
    "\n",
    "def nothing(x):\n",
    "    pass\n",
    "\n",
    "rclpy.init()\n",
    "node = rclpy.create_node(\"get_box_color\")\n",
    "initial_flag = True\n",
    "\n",
    "def hsv_calc(msg):\n",
    "    global initial_flag\n",
    "    if initial_flag:\n",
    "        initial_flag = False\n",
    "        cv2.namedWindow(\"Trackbars\")\n",
    "        cv2.createTrackbar(\"lh\", \"Trackbars\", 0, 179, nothing)\n",
    "        cv2.createTrackbar(\"ls\", \"Trackbars\", 0, 255, nothing)\n",
    "        cv2.createTrackbar(\"lv\", \"Trackbars\", 0, 255, nothing)\n",
    "        cv2.createTrackbar(\"uh\", \"Trackbars\", 179, 179, nothing)\n",
    "        cv2.createTrackbar(\"us\", \"Trackbars\", 255, 255, nothing)\n",
    "        cv2.createTrackbar(\"uv\", \"Trackbars\", 255, 255, nothing)\n",
    "\n",
    "    frame = CvBridge().imgmsg_to_cv2(msg, \"bgr8\")\n",
    "    hsv = cv2.cvtColor(frame, cv2.COLOR_BGR2HSV)\n",
    "\n",
    "    lh = cv2.getTrackbarPos(\"lh\", \"Trackbars\")\n",
    "    ls = cv2.getTrackbarPos(\"ls\", \"Trackbars\")\n",
    "    lv = cv2.getTrackbarPos(\"lv\", \"Trackbars\")\n",
    "    uh = cv2.getTrackbarPos(\"uh\", \"Trackbars\")\n",
    "    us = cv2.getTrackbarPos(\"us\", \"Trackbars\")\n",
    "    uv = cv2.getTrackbarPos(\"uv\", \"Trackbars\")\n",
    "\n",
    "    l_blue = np.array([lh, ls, lv])\n",
    "    u_blue = np.array([uh, us, uv])\n",
    "    mask = cv2.inRange(hsv, l_blue, u_blue)\n",
    "    result = cv2.bitwise_or(frame, frame, mask=mask)\n",
    "\n",
    "    cv2.imshow(\"mask\", mask)\n",
    "    cv2.imshow(\"result\", result)\n",
    "    key = cv2.waitKey(1)\n",
    "    if key == 27:\n",
    "        cv2.destroyAllWindows()\n",
    "        rclpy.shutdown()\n",
    "\n",
    "node.create_subscription(Image, \"/stk_image\", hsv_calc, 1)\n",
    "rclpy.spin(node)\n",
    "rclpy.shutdown()"
   ]
  },
  {
   "cell_type": "markdown",
   "metadata": {},
   "source": [
    "The code does this:\n",
    "\n",
    "1. Loads important libraries for the project.\n",
    "2. Creates a function `nothing` for making sliders.\n",
    "3. Starts ROS2 and creates a node called `get_box_color`.\n",
    "4. Sets up sliders to adjust colors the first time the function runs.\n",
    "5. Gets the game image and changes it to a color format called HSV.\n",
    "6. Uses the slider values to create a mask that finds the road color.\n",
    "7. Shows the mask and the road found by the mask.\n",
    "8. Listens to the game images and runs the function for each image."
   ]
  },
  {
   "cell_type": "markdown",
   "metadata": {},
   "source": [
    "## **5. Making the Car Drive Itself**\n",
    "\n",
    "Now, we'll use the HSV filter to make the car follow the road by itself.\n",
    "\n",
    "### **Code Explanation**\n",
    "\n",
    "This code helps the car see the road and then control the car to stay on the road."
   ]
  },
  {
   "cell_type": "code",
   "execution_count": null,
   "metadata": {},
   "outputs": [],
   "source": [
    "import rclpy\n",
    "from sensor_msgs.msg import Image\n",
    "from geometry_msgs.msg import Twist\n",
    "import cv2\n",
    "from cv_bridge import CvBridge\n",
    "import numpy as np\n",
    "\n",
    "def nothing(x):\n",
    "    pass\n",
    "\n",
    "rclpy.init()\n",
    "node = rclpy.create_node(\"autonomous_drive\")\n",
    "publisher = node.create_publisher(Twist, \"/cmd_vel\", 10)\n",
    "initial_flag = True\n",
    "\n",
    "def hsv_calc(msg):\n",
    "    global initial_flag\n",
    "    if initial_flag:\n",
    "        initial_flag = False\n",
    "        cv2.namedWindow(\"Trackbars\")\n",
    "        cv2.createTrackbar(\"lh\", \"Trackbars\", 0, 179, nothing)\n",
    "        cv2.createTrackbar(\"ls\", \"Trackbars\", 0, 255, nothing)\n",
    "        cv2.createTrackbar(\"lv\", \"Trackbars\", 0, 255, nothing)\n",
    "        cv2.createTrackbar(\"uh\", \"Trackbars\", 179, 179, nothing)\n",
    "        cv2.createTrackbar(\"us\", \"Trackbars\", 255, 255, nothing)\n",
    "        cv2.createTrackbar(\"uv\", \"Trackbars\", 255, 255, nothing)\n",
    "\n",
    "    frame = CvBridge().imgmsg_to_cv2(msg, \"bgr8\")\n",
    "    hsv = cv2.cvtColor(frame, cv2.COLOR_BGR2HSV)\n",
    "\n",
    "    lh = cv2.getTrackbarPos(\"lh\", \"Trackbars\")\n",
    "    ls = cv2.getTrackbarPos(\"ls\", \"Trackbars\")\n",
    "    lv = cv2.getTrackbarPos(\"lv\", \"Trackbars\")\n",
    "    uh = cv2.getTrackbarPos(\"uh\", \"Trackbars\")\n",
    "    us = cv2.getTrackbarPos(\"us\", \"Trackbars\")\n",
    "    uv = cv2.getTrackbarPos(\"uv\", \"Trackbars\")\n",
    "\n",
    "    l_blue = np.array([lh, ls, lv])\n",
    "    u_blue = np.array([uh, us, uv])\n",
    "    mask = cv2.inRange(hsv, l_blue, u_blue)\n",
    "    result = cv2.bitwise_or(frame, frame, mask=mask)\n",
    "\n",
    "    cv2.imshow(\"mask\", mask)\n",
    "    cv2.imshow(\"result\", result)\n",
    "\n",
    "    h, w, _ = frame.shape\n",
    "    m = cv2.moments(mask)\n",
    "    if m[\"m00\"] > 0:\n",
    "        cx = int(m[\"m10\"] / m[\"m00\"])\n",
    "        cy = int(m[\"m01\"] / m[\"m00\"])\n",
    "\n",
    "        err = cx - w / 2\n",
    "        twist = Twist()\n",
    "        twist.linear.x = 0.2\n",
    "        twist.angular.z = -float(err) / 100\n",
    "        publisher.publish(twist)\n",
    "\n",
    "    key = cv2.waitKey(1)\n",
    "    if key == 27:\n",
    "        cv2.destroyAllWindows()\n",
    "        rclpy.shutdown()\n",
    "\n",
    "node.create_subscription(Image, \"/stk_image\", hsv_calc, 1)\n",
    "rclpy.spin(node)\n",
    "rclpy.shutdown()"
   ]
  },
  {
   "cell_type": "markdown",
   "metadata": {},
   "source": [
    "The code does this:\n",
    "\n",
    "1. Loads important libraries for the project.\n",
    "2. Creates a function `nothing` for making sliders.\n",
    "3. Starts ROS2 and creates a node called `autonomous_drive`.\n",
    "4. Creates a way to send drive commands to the car.\n",
    "5. Sets up sliders to adjust colors the first time the function runs.\n",
    "6. Gets the game image and changes it to a color format called HSV.\n",
    "7. Uses the slider values to create a mask that finds the road color.\n",
    "8. Shows the mask and the road found by the mask.\n",
    "9. Finds the center of the road.\n",
    "10. Calculates how far the center of the road is from the center of the image.\n",
    "11. Makes a command to steer the car towards the road.\n",
    "12. Sends the command to the car.\n",
    "13. Listens to the game images and runs the function for each image."
   ]
  },
  {
   "cell_type": "markdown",
   "metadata": {},
   "source": [
    "## **6. Running the Final Autonomous Race**\n",
    "\n",
    "Now that everything is set up, let's run the final autonomous race! Start SuperTuxKart and watch your car drive itself around the track."
   ]
  }
 ],
 "metadata": {
  "kernelspec": {
   "display_name": "Python 3",
   "language": "python",
   "name": "python3"
  },
  "language_info": {
   "codemirror_mode": {
    "name": "ipython",
    "version": 3
   },
   "file_extension": ".py",
   "mimetype": "text/x-python",
   "name": "python",
   "nbconvert_exporter": "python",
   "pygments_lexer": "ipython3",
   "version": "3.8.10"
  }
 },
 "nbformat": 4,
 "nbformat_minor": 5
}

